{
  "nbformat": 4,
  "nbformat_minor": 0,
  "metadata": {
    "colab": {
      "name": "derivadasparciais.ipynb",
      "provenance": [],
      "authorship_tag": "ABX9TyP6B20heiZYqEA3Yv4b72B5",
      "include_colab_link": true
    },
    "kernelspec": {
      "name": "python3",
      "display_name": "Python 3"
    },
    "language_info": {
      "name": "python"
    }
  },
  "cells": [
    {
      "cell_type": "markdown",
      "metadata": {
        "id": "view-in-github",
        "colab_type": "text"
      },
      "source": [
        "<a href=\"https://colab.research.google.com/github/sarapimentelc/spengprod/blob/main/derivadas_parciais.ipynb\" target=\"_parent\"><img src=\"https://colab.research.google.com/assets/colab-badge.svg\" alt=\"Open In Colab\"/></a>"
      ]
    },
    {
      "cell_type": "markdown",
      "metadata": {
        "id": "_t4upds4etLh"
      },
      "source": [
        "#Derivadas parciais"
      ]
    },
    {
      "cell_type": "code",
      "metadata": {
        "id": "MqF2kbWvexCn"
      },
      "source": [
        "#Aquela introdução de seeeempre xD \n",
        "from sympy import *\n",
        "from sympy.plotting import *\n",
        "\n",
        "init_printing(use_unicode=True)\n",
        "\n",
        "x, y, z = symbols('x y z')"
      ],
      "execution_count": 1,
      "outputs": []
    },
    {
      "cell_type": "code",
      "metadata": {
        "colab": {
          "base_uri": "https://localhost:8080/",
          "height": 38
        },
        "id": "D5NUYGd3fKAO",
        "outputId": "584f8c4a-47ec-4c03-9c5f-787ac145d240"
      },
      "source": [
        "#Começando com o exemplo de uma hard, com exponencial\n",
        "funcao = x*exp(x*y) \n",
        "funcao"
      ],
      "execution_count": 3,
      "outputs": [
        {
          "output_type": "execute_result",
          "data": {
            "image/png": "[encoded data removed]",
            "text/latex": "$\\displaystyle x e^{x y}$",
            "text/plain": [
              "   x⋅y\n",
              "x⋅ℯ   "
            ]
          },
          "metadata": {
            "tags": []
          },
          "execution_count": 3
        }
      ]
    },
    {
      "cell_type": "code",
      "metadata": {
        "colab": {
          "base_uri": "https://localhost:8080/",
          "height": 38
        },
        "id": "AOC6kgHFfTAl",
        "outputId": "7009c1fe-3b0e-4a5d-d1a5-f63dcfb567b1"
      },
      "source": [
        "diff(funcao, x) #primeira derivada em função de x"
      ],
      "execution_count": 5,
      "outputs": [
        {
          "output_type": "execute_result",
          "data": {
            "image/png": "[encoded data removed]",
            "text/latex": "$\\displaystyle x y e^{x y} + e^{x y}$",
            "text/plain": [
              "     x⋅y    x⋅y\n",
              "x⋅y⋅ℯ    + ℯ   "
            ]
          },
          "metadata": {
            "tags": []
          },
          "execution_count": 5
        }
      ]
    },
    {
      "cell_type": "code",
      "metadata": {
        "colab": {
          "base_uri": "https://localhost:8080/",
          "height": 38
        },
        "id": "L9DcHFonfdMI",
        "outputId": "49fc8d99-34b1-4c69-b80e-60334536a161"
      },
      "source": [
        "simplify(diff(funcao, x)) #simplificando pra ficar bonitinho ^.^"
      ],
      "execution_count": 6,
      "outputs": [
        {
          "output_type": "execute_result",
          "data": {
            "image/png": "[encoded data removed]",
            "text/latex": "$\\displaystyle \\left(x y + 1\\right) e^{x y}$",
            "text/plain": [
              "           x⋅y\n",
              "(x⋅y + 1)⋅ℯ   "
            ]
          },
          "metadata": {
            "tags": []
          },
          "execution_count": 6
        }
      ]
    },
    {
      "cell_type": "code",
      "metadata": {
        "colab": {
          "base_uri": "https://localhost:8080/",
          "height": 38
        },
        "id": "J6-aM8yzfoyx",
        "outputId": "2d4f7f13-119f-48a0-f51f-dbed2dc76d53"
      },
      "source": [
        "diff(funcao, y) #agora a primeira derivada em função de y"
      ],
      "execution_count": 7,
      "outputs": [
        {
          "output_type": "execute_result",
          "data": {
            "image/png": "[encoded data removed]",
            "text/latex": "$\\displaystyle x^{2} e^{x y}$",
            "text/plain": [
              " 2  x⋅y\n",
              "x ⋅ℯ   "
            ]
          },
          "metadata": {
            "tags": []
          },
          "execution_count": 7
        }
      ]
    },
    {
      "cell_type": "code",
      "metadata": {
        "colab": {
          "base_uri": "https://localhost:8080/",
          "height": 38
        },
        "id": "ZiEykVCcfyFs",
        "outputId": "82ac03ff-23b8-4144-fcf7-2a5031224da2"
      },
      "source": [
        "diff(x**2+y**2,x) #outra forma de derivar em função de x"
      ],
      "execution_count": 8,
      "outputs": [
        {
          "output_type": "execute_result",
          "data": {
            "image/png": "[encoded data removed]",
            "text/latex": "$\\displaystyle 2 x$",
            "text/plain": [
              "2⋅x"
            ]
          },
          "metadata": {
            "tags": []
          },
          "execution_count": 8
        }
      ]
    },
    {
      "cell_type": "code",
      "metadata": {
        "colab": {
          "base_uri": "https://localhost:8080/",
          "height": 38
        },
        "id": "wophMGzygAdc",
        "outputId": "e09e8aa5-3ed3-4fdc-f1d6-bfe58ee5aef4"
      },
      "source": [
        "diff(x**2+y**2,y) #agora em função de y"
      ],
      "execution_count": 10,
      "outputs": [
        {
          "output_type": "execute_result",
          "data": {
            "image/png": "[encoded data removed]",
            "text/latex": "$\\displaystyle 2 y$",
            "text/plain": [
              "2⋅y"
            ]
          },
          "metadata": {
            "tags": []
          },
          "execution_count": 10
        }
      ]
    },
    {
      "cell_type": "code",
      "metadata": {
        "colab": {
          "base_uri": "https://localhost:8080/",
          "height": 52
        },
        "id": "EJjUYPAMgFRW",
        "outputId": "307c83d5-b0b6-4a92-e8ce-54fa2d53ad0f"
      },
      "source": [
        "Derivative(funcao, x) #agora colocando a função no formato "
      ],
      "execution_count": 11,
      "outputs": [
        {
          "output_type": "execute_result",
          "data": {
            "image/png": "[encoded data removed]",
            "text/latex": "$\\displaystyle \\frac{\\partial}{\\partial x} x e^{x y}$",
            "text/plain": [
              "∂ ⎛   x⋅y⎞\n",
              "──⎝x⋅ℯ   ⎠\n",
              "∂x        "
            ]
          },
          "metadata": {
            "tags": []
          },
          "execution_count": 11
        }
      ]
    }
  ]
}