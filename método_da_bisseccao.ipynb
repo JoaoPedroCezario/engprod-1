{
  "nbformat": 4,
  "nbformat_minor": 0,
  "metadata": {
    "colab": {
      "name": "método_da_bisseccao.ipynb",
      "provenance": [],
      "include_colab_link": true
    },
    "kernelspec": {
      "name": "python3",
      "display_name": "Python 3"
    },
    "language_info": {
      "name": "python"
    }
  },
  "cells": [
    {
      "cell_type": "markdown",
      "metadata": {
        "id": "view-in-github",
        "colab_type": "text"
      },
      "source": [
        "<a href=\"https://colab.research.google.com/github/sarapimentelc/engprod/blob/main/m%C3%A9todo_da_bisseccao.ipynb\" target=\"_parent\"><img src=\"https://colab.research.google.com/assets/colab-badge.svg\" alt=\"Open In Colab\"/></a>"
      ]
    },
    {
      "cell_type": "code",
      "metadata": {
        "id": "ZFAhsgVxbZD7"
      },
      "source": [
        "import math\n",
        "from sympy import *\n",
        "\n",
        "init_printing(use_unicode=True)\n",
        "\n",
        "x = symbols('x')"
      ],
      "execution_count": null,
      "outputs": []
    },
    {
      "cell_type": "code",
      "metadata": {
        "id": "9NTXQ3Lwmeip"
      },
      "source": [
        "def bisseccao(f, a, b, eps, N):\n",
        "  n = 1\n",
        "  p = 0. # to ensure the value of p carries out of the while loop\n",
        "  while n <= N:\n",
        "    p = a + (b-a)/2\n",
        "    if math.isclose(f(p), 0) or abs(a-b)<eps:\n",
        "      print('a raiz é ', p, ' e a última iteração foi ', n)\n",
        "      return\n",
        "    if f(a)*f(p) < 0:\n",
        "      b = p\n",
        "    else:\n",
        "      a = p\n",
        "    n+= 1\n",
        "  y = f(p)\n",
        "  print('Método não converge. A última iteração foi ',p, ' com a função valendo ', y)"
      ],
      "execution_count": null,
      "outputs": []
    },
    {
      "cell_type": "markdown",
      "metadata": {
        "id": "hnJds-l5QjHh"
      },
      "source": [
        "##Entre aqui com a função, o intervalo inicial [a,b], o erro e o número máximo de iterações"
      ]
    },
    {
      "cell_type": "code",
      "metadata": {
        "id": "5aNGRyV8nk__"
      },
      "source": [
        "f = lambda x: x**3+3*x-1\n",
        "a = 0\n",
        "b = 1\n",
        "eps = 0.001\n",
        "N = 34"
      ],
      "execution_count": null,
      "outputs": []
    },
    {
      "cell_type": "code",
      "metadata": {
        "colab": {
          "base_uri": "https://localhost:8080/"
        },
        "id": "0lnYHWmKoD1v",
        "outputId": "e3dc3248-bce0-4d76-abe9-eb150911a656"
      },
      "source": [
        "solucao = bisseccao(f, a, b, eps, N)\n"
      ],
      "execution_count": null,
      "outputs": [
        {
          "output_type": "stream",
          "name": "stdout",
          "text": [
            "a raiz é  0.32177734375  e a última iteração foi  11\n"
          ]
        }
      ]
    },
    {
      "cell_type": "code",
      "metadata": {
        "id": "20zgWIQUoHys",
        "colab": {
          "base_uri": "https://localhost:8080/",
          "height": 314
        },
        "outputId": "0e3874bf-be82-4416-949f-c777b95d00eb"
      },
      "source": [
        "plot(x**3+3*x-1,(x,0,1))"
      ],
      "execution_count": null,
      "outputs": [
        {
          "output_type": "display_data",
          "data": {
            "image/png": "[encoded data removed]",
            "text/plain": [
              "<Figure size 432x288 with 1 Axes>"
            ]
          },
          "metadata": {
            "needs_background": "light"
          }
        },
        {
          "output_type": "execute_result",
          "data": {
            "text/plain": [
              "<sympy.plotting.plot.Plot at 0x7f483faaf090>"
            ]
          },
          "metadata": {},
          "execution_count": 27
        }
      ]
    },
    {
      "cell_type": "code",
      "metadata": {
        "id": "St-kSLBAQ08C"
      },
      "source": [
        ""
      ],
      "execution_count": null,
      "outputs": []
    }
  ]
}