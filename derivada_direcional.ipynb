{
  "nbformat": 4,
  "nbformat_minor": 0,
  "metadata": {
    "colab": {
      "name": "derivada direcional.ipynb",
      "provenance": [],
      "authorship_tag": "ABX9TyPyMmmjOk39wu/7XbqlwlG7",
      "include_colab_link": true
    },
    "kernelspec": {
      "name": "python3",
      "display_name": "Python 3"
    },
    "language_info": {
      "name": "python"
    }
  },
  "cells": [
    {
      "cell_type": "markdown",
      "metadata": {
        "id": "view-in-github",
        "colab_type": "text"
      },
      "source": [
        "<a href=\"https://colab.research.google.com/github/sarapimentelc/spengprod/blob/main/derivada_direcional.ipynb\" target=\"_parent\"><img src=\"https://colab.research.google.com/assets/colab-badge.svg\" alt=\"Open In Colab\"/></a>"
      ]
    },
    {
      "cell_type": "markdown",
      "metadata": {
        "id": "0Cwx2BInpHna"
      },
      "source": [
        "#Derivada direcional"
      ]
    },
    {
      "cell_type": "code",
      "metadata": {
        "id": "e3dyJHxbpLxG"
      },
      "source": [
        "from sympy import *\n",
        "init_printing(use_unicode=True)\n",
        "x, y, z = symbols('x y z')"
      ],
      "execution_count": 1,
      "outputs": []
    },
    {
      "cell_type": "code",
      "metadata": {
        "colab": {
          "base_uri": "https://localhost:8080/",
          "height": 55
        },
        "id": "8J9SkGrrpOd4",
        "outputId": "66dd7e91-8991-436e-ce3a-e4d694251410"
      },
      "source": [
        "# Entre com os valores:\n",
        "u = (3, 2) \n",
        "P = (-6, 4)\n",
        "f = sin(2*x+3*y)\n",
        "\n",
        "# Verifica se u é unitário e normaliza caso não seja:\n",
        "mod_u = sqrt((u[0]**2)+(u[1]**2))\n",
        "\n",
        "if mod_u != 1:\n",
        "  u = ((1/mod_u)*u[0], (1/mod_u)*u[1])\n",
        "\n",
        "# Calcula a derivada direcional de f em P na direção de u:\n",
        "fx = diff(f, x).subs({x: P[0], y: P[1]})\n",
        "fy = diff(f, y).subs({x: P[0], y: P[1]})\n",
        "\n",
        "derivada_direcional = fx*u[0] + fy*u[1]\n",
        "\n",
        "derivada_direcional"
      ],
      "execution_count": 2,
      "outputs": [
        {
          "output_type": "execute_result",
          "data": {
            "image/png": "[encoded data removed]",
            "text/latex": "$\\displaystyle \\frac{12 \\sqrt{13}}{13}$",
            "text/plain": [
              "12⋅√13\n",
              "──────\n",
              "  13  "
            ]
          },
          "metadata": {
            "tags": []
          },
          "execution_count": 2
        }
      ]
    }
  ]
}