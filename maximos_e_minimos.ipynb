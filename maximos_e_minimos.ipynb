{
  "nbformat": 4,
  "nbformat_minor": 0,
  "metadata": {
    "colab": {
      "name": "maximoseminimos.ipynb",
      "provenance": [],
      "collapsed_sections": [],
      "authorship_tag": "ABX9TyNdt/MYAf8nACDpeYHae8SA",
      "include_colab_link": true
    },
    "kernelspec": {
      "name": "python3",
      "display_name": "Python 3"
    },
    "language_info": {
      "name": "python"
    }
  },
  "cells": [
    {
      "cell_type": "markdown",
      "metadata": {
        "id": "view-in-github",
        "colab_type": "text"
      },
      "source": [
        "<a href=\"https://colab.research.google.com/github/sarapimentelc/engprod/blob/main/maximos_e_minimos.ipynb\" target=\"_parent\"><img src=\"https://colab.research.google.com/assets/colab-badge.svg\" alt=\"Open In Colab\"/></a>"
      ]
    },
    {
      "cell_type": "markdown",
      "metadata": {
        "id": "eXJjpJQeqmIG"
      },
      "source": [
        "#Máximos e mínimos"
      ]
    },
    {
      "cell_type": "code",
      "metadata": {
        "id": "h9T84r4AqpNz"
      },
      "source": [
        "from sympy import *\n",
        "init_printing(use_unicode=True)\n",
        "x, y, z, t = symbols('x y z t')"
      ],
      "execution_count": null,
      "outputs": []
    },
    {
      "cell_type": "code",
      "metadata": {
        "id": "xTynNbCLqqBS"
      },
      "source": [
        "f = (x-2)**2 + y**2 + (z+3)**2\n",
        "g = x+y+z\n",
        "\n",
        "eq1 = Eq(diff(f,x), t*diff(g,x))\n",
        "eq2 = Eq(diff(f,y), t*diff(g,y))\n",
        "eq3 = Eq(diff(f,z), t*diff(g,z))\n",
        "eq4 = Eq(g, 1)\n",
        "\n",
        "solve([eq1, eq2, eq3, eq4], [x,y,z,t])"
      ],
      "execution_count": null,
      "outputs": []
    },
    {
      "cell_type": "code",
      "metadata": {
        "id": "5MKpJ8LBqr8H"
      },
      "source": [
        "solucao = solve([eq1, eq2, eq3, eq4], [x,y,z,t])"
      ],
      "execution_count": null,
      "outputs": []
    },
    {
      "cell_type": "code",
      "metadata": {
        "id": "9WM2edDoqtvr"
      },
      "source": [
        "distancia_quadrado = f.subs({x:solucao[x], y:solucao[y], z:solucao[z]})"
      ],
      "execution_count": null,
      "outputs": []
    },
    {
      "cell_type": "code",
      "metadata": {
        "id": "It0QG1dwqxE9"
      },
      "source": [
        "distancia = sqrt(distancia_quadrado)\n",
        "distancia"
      ],
      "execution_count": null,
      "outputs": []
    }
  ]
}