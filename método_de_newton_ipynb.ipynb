{
  "nbformat": 4,
  "nbformat_minor": 0,
  "metadata": {
    "colab": {
      "name": "método_de_newton.ipynb.ipynb",
      "provenance": [],
      "include_colab_link": true
    },
    "kernelspec": {
      "name": "python3",
      "display_name": "Python 3"
    },
    "language_info": {
      "name": "python"
    }
  },
  "cells": [
    {
      "cell_type": "markdown",
      "metadata": {
        "id": "view-in-github",
        "colab_type": "text"
      },
      "source": [
        "<a href=\"https://colab.research.google.com/github/sarapimentelc/engprod/blob/main/m%C3%A9todo_de_newton_ipynb.ipynb\" target=\"_parent\"><img src=\"https://colab.research.google.com/assets/colab-badge.svg\" alt=\"Open In Colab\"/></a>"
      ]
    },
    {
      "cell_type": "code",
      "metadata": {
        "id": "WZ8NayrEd8wT"
      },
      "source": [
        "from sympy import *\n",
        "import numpy as np\n",
        "import math"
      ],
      "execution_count": null,
      "outputs": []
    },
    {
      "cell_type": "code",
      "metadata": {
        "id": "-JWOpL1DeMQp"
      },
      "source": [
        "init_printing(use_unicode=True)\n",
        "x = symbols('x')"
      ],
      "execution_count": null,
      "outputs": []
    },
    {
      "cell_type": "code",
      "metadata": {
        "colab": {
          "base_uri": "https://localhost:8080/",
          "height": 37
        },
        "id": "11NTun5asaHJ",
        "outputId": "88ba9d2e-3506-4dc0-a33c-ffb4d12ff2e4"
      },
      "source": [
        "math.exp(1)"
      ],
      "execution_count": null,
      "outputs": [
        {
          "output_type": "execute_result",
          "data": {
            "image/png": "[encoded data removed]",
            "text/latex": "$\\displaystyle 2.71828182845905$",
            "text/plain": [
              "2.718281828459045"
            ]
          },
          "metadata": {},
          "execution_count": 3
        }
      ]
    },
    {
      "cell_type": "code",
      "metadata": {
        "id": "7XyzCNbNeU0t"
      },
      "source": [
        "def newton(f, fprime, pin, eps, N):\n",
        "  n = 1\n",
        "  p = 0\n",
        "  while n<=N:\n",
        "    p = pin - f(pin)/fprime(pin)\n",
        "    if np.isclose(f(p), 0) or np.abs(p-pin) < eps:\n",
        "      print('a raiz é ', p, ' e o número de iterações foi ', n)\n",
        "      return\n",
        "    pin = p\n",
        "    n += 1\n",
        "  y = f(p)\n",
        "  print('Método não converge. A última iteração foi ', p, ' com valor ', y)\n"
      ],
      "execution_count": null,
      "outputs": []
    },
    {
      "cell_type": "code",
      "metadata": {
        "colab": {
          "base_uri": "https://localhost:8080/",
          "height": 314
        },
        "id": "8ZuzjKarevxi",
        "outputId": "144e98ea-44ab-4bfd-d0f7-28180156a56b"
      },
      "source": [
        "plot(4*cos(x)-exp(x), (x,-2,4))"
      ],
      "execution_count": null,
      "outputs": [
        {
          "output_type": "display_data",
          "data": {
            "image/png": "[encoded data removed]",
            "text/plain": [
              "<Figure size 432x288 with 1 Axes>"
            ]
          },
          "metadata": {
            "needs_background": "light"
          }
        },
        {
          "output_type": "execute_result",
          "data": {
            "text/plain": [
              "<sympy.plotting.plot.Plot at 0x7fc081da6850>"
            ]
          },
          "metadata": {},
          "execution_count": 13
        }
      ]
    },
    {
      "cell_type": "code",
      "metadata": {
        "colab": {
          "base_uri": "https://localhost:8080/",
          "height": 38
        },
        "id": "cnjQyIagfLmc",
        "outputId": "3ac2c49b-fde4-417a-8576-0f1f527209d6"
      },
      "source": [
        "diff(4*cos(x)-exp(x),x)"
      ],
      "execution_count": null,
      "outputs": [
        {
          "output_type": "execute_result",
          "data": {
            "image/png": "[encoded data removed]",
            "text/latex": "$\\displaystyle - e^{x} - 4 \\sin{\\left(x \\right)}$",
            "text/plain": [
              "   x           \n",
              "- ℯ  - 4⋅sin(x)"
            ]
          },
          "metadata": {},
          "execution_count": 6
        }
      ]
    },
    {
      "cell_type": "code",
      "metadata": {
        "colab": {
          "base_uri": "https://localhost:8080/"
        },
        "id": "UQ6llVcBe_CT",
        "outputId": "f2875d61-090d-4113-ab66-4b4d7071b22d"
      },
      "source": [
        "newton(lambda x: 4*math.cos(x)-math.exp(x), lambda x: -4*math.sin(x)-math.exp(x), 1, 0.01, 200)"
      ],
      "execution_count": null,
      "outputs": [
        {
          "output_type": "stream",
          "name": "stdout",
          "text": [
            "a raiz é  0.9047940616723674  e o número de iterações foi  2\n"
          ]
        }
      ]
    },
    {
      "cell_type": "code",
      "metadata": {
        "colab": {
          "base_uri": "https://localhost:8080/",
          "height": 314
        },
        "id": "FXndgWpDfYwM",
        "outputId": "9d47898d-8bd2-47d9-945b-192286e3855d"
      },
      "source": [
        "plot(4*cos(x)-exp(x), (x,-2,4))\n"
      ],
      "execution_count": null,
      "outputs": [
        {
          "output_type": "display_data",
          "data": {
            "image/png": "[encoded data removed]",
            "text/plain": [
              "<Figure size 432x288 with 1 Axes>"
            ]
          },
          "metadata": {
            "needs_background": "light"
          }
        },
        {
          "output_type": "execute_result",
          "data": {
            "text/plain": [
              "<sympy.plotting.plot.Plot at 0x7fc081efc610>"
            ]
          },
          "metadata": {},
          "execution_count": 8
        }
      ]
    },
    {
      "cell_type": "code",
      "metadata": {
        "id": "Q8wsSjxjqvSn"
      },
      "source": [
        ""
      ],
      "execution_count": null,
      "outputs": []
    }
  ]
}