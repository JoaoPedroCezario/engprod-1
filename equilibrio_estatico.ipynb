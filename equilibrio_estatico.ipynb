{
  "nbformat": 4,
  "nbformat_minor": 0,
  "metadata": {
    "colab": {
      "name": "equilibrio_estatico.ipynb",
      "provenance": [],
      "collapsed_sections": [],
      "include_colab_link": true
    },
    "kernelspec": {
      "name": "python3",
      "display_name": "Python 3"
    },
    "language_info": {
      "name": "python"
    }
  },
  "cells": [
    {
      "cell_type": "markdown",
      "metadata": {
        "id": "view-in-github",
        "colab_type": "text"
      },
      "source": [
        "<a href=\"https://colab.research.google.com/github/sarapimentelc/engprod/blob/main/equilibrio_estatico.ipynb\" target=\"_parent\"><img src=\"https://colab.research.google.com/assets/colab-badge.svg\" alt=\"Open In Colab\"/></a>"
      ]
    },
    {
      "cell_type": "code",
      "metadata": {
        "id": "oEtmwm81P9DE"
      },
      "source": [
        "from sympy import *\n",
        "from sympy.plotting import *\n",
        "init_printing(use_unicode=True)\n",
        "x, y, z, k = symbols('x y z k')"
      ],
      "execution_count": null,
      "outputs": []
    },
    {
      "cell_type": "code",
      "metadata": {
        "id": "LURlNH5yQ_oJ"
      },
      "source": [
        "x=350\n",
        "y=1400\n",
        "z=9.81\n",
        "\n",
        "w1=x*z #força que atua no caixote 1\n",
        "w2=y*z #força que atua no centro do carro"
      ],
      "execution_count": null,
      "outputs": []
    },
    {
      "cell_type": "code",
      "metadata": {
        "colab": {
          "base_uri": "https://localhost:8080/",
          "height": 37
        },
        "id": "ONZyd-ftRH3a",
        "outputId": "915c2edc-c169-41b3-a94d-c7c72fb9b0ea"
      },
      "source": [
        "w1"
      ],
      "execution_count": null,
      "outputs": [
        {
          "output_type": "execute_result",
          "data": {
            "image/png": "[encoded data removed]",
            "text/latex": "$\\displaystyle 3433.5$",
            "text/plain": [
              "3433.5"
            ]
          },
          "metadata": {
            "tags": []
          },
          "execution_count": 25
        }
      ]
    },
    {
      "cell_type": "code",
      "metadata": {
        "colab": {
          "base_uri": "https://localhost:8080/",
          "height": 37
        },
        "id": "6wlSEHpVSDxL",
        "outputId": "49f31cb9-c9ba-4eaa-cff6-1ded0f379e47"
      },
      "source": [
        "w2"
      ],
      "execution_count": null,
      "outputs": [
        {
          "output_type": "execute_result",
          "data": {
            "image/png": "[encoded data removed]",
            "text/latex": "$\\displaystyle 13734.0$",
            "text/plain": [
              "13734.0"
            ]
          },
          "metadata": {
            "tags": []
          },
          "execution_count": 26
        }
      ]
    },
    {
      "cell_type": "code",
      "metadata": {
        "id": "96mjQyN-S5AE"
      },
      "source": [
        "soma_momentob = 0 #rodastraseiras"
      ],
      "execution_count": null,
      "outputs": []
    },
    {
      "cell_type": "code",
      "metadata": {
        "colab": {
          "base_uri": "https://localhost:8080/"
        },
        "id": "-c_wV4QdS-td",
        "outputId": "1f03f960-249a-4524-b501-ccf40d7dcd85"
      },
      "source": [
        "momentob = [w1*(1.7+2.05)+w2*(1.2)-(2*k*(3))] #uma opção de calcular o somatório\n",
        "\n",
        "#código omitido\n",
        "\n",
        "soma_momentob = len(momentob)\n",
        "print(momentob)"
      ],
      "execution_count": null,
      "outputs": [
        {
          "output_type": "stream",
          "text": [
            "[29356.425 - 6*k]\n"
          ],
          "name": "stdout"
        }
      ]
    },
    {
      "cell_type": "code",
      "metadata": {
        "id": "Y5AzKlDrgxk_"
      },
      "source": [
        ""
      ],
      "execution_count": null,
      "outputs": []
    },
    {
      "cell_type": "code",
      "metadata": {
        "id": "lqN3NtvCT04R",
        "colab": {
          "base_uri": "https://localhost:8080/"
        },
        "outputId": "e50ff554-5b6c-4fb4-c8f3-84b4b402dce0"
      },
      "source": [
        "def somalista(numeros): #outra opção de calcular#\n",
        "    soma = 0\n",
        "    for i in numeros:\n",
        "        soma = soma + i\n",
        "    return soma\n",
        "\n",
        "print(somalista([w1*(1.7+2.05)+w2*(1.2)-(2*k*(3))]))\n"
      ],
      "execution_count": 53,
      "outputs": [
        {
          "output_type": "stream",
          "text": [
            "29356.425 - 6*k\n"
          ],
          "name": "stdout"
        }
      ]
    },
    {
      "cell_type": "code",
      "metadata": {
        "colab": {
          "base_uri": "https://localhost:8080/",
          "height": 37
        },
        "id": "y8ATmTqda8CG",
        "outputId": "bd2197f4-a865-46e4-eee7-dcb8f99166df"
      },
      "source": [
        "k1 = (29356.425/-6)*(-1)\n",
        "k1"
      ],
      "execution_count": 49,
      "outputs": [
        {
          "output_type": "execute_result",
          "data": {
            "image/png": "[encoded data removed]",
            "text/latex": "$\\displaystyle 4892.7375$",
            "text/plain": [
              "4892.7375"
            ]
          },
          "metadata": {
            "tags": []
          },
          "execution_count": 49
        }
      ]
    },
    {
      "cell_type": "code",
      "metadata": {
        "colab": {
          "base_uri": "https://localhost:8080/"
        },
        "id": "EmJbSya2gD3W",
        "outputId": "57d6c76d-7623-4ec0-9df5-117b41bd8ee3"
      },
      "source": [
        "momentoy = [-3434-13734+2*k1+2*k2] #uma opção de calcular o somatório\n",
        "\n",
        "#código omitido\n",
        "\n",
        "soma_momentoy = len(momentoy)\n",
        "print(momentoy)"
      ],
      "execution_count": 50,
      "outputs": [
        {
          "output_type": "stream",
          "text": [
            "[2*f - 7382.525]\n"
          ],
          "name": "stdout"
        }
      ]
    },
    {
      "cell_type": "code",
      "metadata": {
        "colab": {
          "base_uri": "https://localhost:8080/",
          "height": 37
        },
        "id": "XxbBPGDjgZR7",
        "outputId": "bc022533-31ad-4780-839e-e2fbe30b76a9"
      },
      "source": [
        "k2 = (7382.525/-2)*(-1)\n",
        "k2"
      ],
      "execution_count": 52,
      "outputs": [
        {
          "output_type": "execute_result",
          "data": {
            "image/png": "[encoded data removed]",
            "text/latex": "$\\displaystyle 3691.2625$",
            "text/plain": [
              "3691.2625"
            ]
          },
          "metadata": {
            "tags": []
          },
          "execution_count": 52
        }
      ]
    }
  ]
}